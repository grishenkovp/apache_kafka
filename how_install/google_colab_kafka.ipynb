{
  "nbformat": 4,
  "nbformat_minor": 0,
  "metadata": {
    "colab": {
      "name": "google_colab_kafka.ipynb",
      "provenance": [],
      "collapsed_sections": []
    },
    "kernelspec": {
      "name": "python3",
      "display_name": "Python 3"
    },
    "language_info": {
      "name": "python"
    }
  },
  "cells": [
    {
      "cell_type": "markdown",
      "source": [
        "#Google Colab. Установка Kafka"
      ],
      "metadata": {
        "id": "1wSG7oBJPeuK"
      }
    },
    {
      "cell_type": "code",
      "execution_count": 1,
      "metadata": {
        "colab": {
          "base_uri": "https://localhost:8080/"
        },
        "id": "VolOC6WC0y_0",
        "outputId": "eaed3c39-3e32-4778-c16e-b6cbabf6c14b"
      },
      "outputs": [
        {
          "output_type": "stream",
          "name": "stdout",
          "text": [
            "--2022-07-05 12:16:07--  https://dlcdn.apache.org/kafka/3.2.0/kafka_2.13-3.2.0.tgz\n",
            "Resolving dlcdn.apache.org (dlcdn.apache.org)... 151.101.2.132, 2a04:4e42::644\n",
            "Connecting to dlcdn.apache.org (dlcdn.apache.org)|151.101.2.132|:443... connected.\n",
            "HTTP request sent, awaiting response... 200 OK\n",
            "Length: 103955943 (99M) [application/x-gzip]\n",
            "Saving to: ‘kafka_2.13-3.2.0.tgz’\n",
            "\n",
            "kafka_2.13-3.2.0.tg 100%[===================>]  99.14M   208MB/s    in 0.5s    \n",
            "\n",
            "2022-07-05 12:16:08 (208 MB/s) - ‘kafka_2.13-3.2.0.tgz’ saved [103955943/103955943]\n",
            "\n"
          ]
        }
      ],
      "source": [
        "!wget https://dlcdn.apache.org/kafka/3.2.0/kafka_2.13-3.2.0.tgz"
      ]
    },
    {
      "cell_type": "code",
      "source": [
        "!tar -xzf kafka_2.13-3.2.0.tgz"
      ],
      "metadata": {
        "id": "Sqe1ka5q2ELR"
      },
      "execution_count": 2,
      "outputs": []
    },
    {
      "cell_type": "code",
      "source": [
        "!./kafka_2.13-3.2.0/bin/zookeeper-server-start.sh -daemon ./kafka_2.13-3.2.0/config/zookeeper.properties\n",
        "!./kafka_2.13-3.2.0/bin/kafka-server-start.sh -daemon ./kafka_2.13-3.2.0/config/server.properties\n",
        "!echo \"Waiting for 10 secs until kafka and zookeeper services are up and running\"\n",
        "!sleep 10"
      ],
      "metadata": {
        "colab": {
          "base_uri": "https://localhost:8080/"
        },
        "id": "1k-LWGGO2y_B",
        "outputId": "c803aaa3-99d0-4da3-d664-02022cac79d4"
      },
      "execution_count": 3,
      "outputs": [
        {
          "output_type": "stream",
          "name": "stdout",
          "text": [
            "Waiting for 10 secs until kafka and zookeeper services are up and running\n"
          ]
        }
      ]
    },
    {
      "cell_type": "code",
      "source": [
        "#!ps -ef | grep kafka"
      ],
      "metadata": {
        "id": "Rh84Hf5b4agp"
      },
      "execution_count": null,
      "outputs": []
    },
    {
      "cell_type": "code",
      "source": [
        "!./kafka_2.13-3.2.0/bin/kafka-topics.sh --create --bootstrap-server 127.0.0.1:9092 --replication-factor 1 --partitions 1 --topic test"
      ],
      "metadata": {
        "colab": {
          "base_uri": "https://localhost:8080/"
        },
        "id": "JUX__GEK4dcA",
        "outputId": "47b1318c-685b-4858-a12b-3d74a20646e5"
      },
      "execution_count": 5,
      "outputs": [
        {
          "output_type": "stream",
          "name": "stdout",
          "text": [
            "Created topic test.\n"
          ]
        }
      ]
    },
    {
      "cell_type": "code",
      "source": [
        "!./kafka_2.13-3.2.0/bin/kafka-topics.sh --describe --bootstrap-server 127.0.0.1:9092 --topic test"
      ],
      "metadata": {
        "colab": {
          "base_uri": "https://localhost:8080/"
        },
        "id": "P3PveCmZ4uPv",
        "outputId": "beeea03e-5cfd-4371-e079-9554dbc24b62"
      },
      "execution_count": 6,
      "outputs": [
        {
          "output_type": "stream",
          "name": "stdout",
          "text": [
            "Topic: test\tTopicId: wltshipISoaOQRq-AK2hZQ\tPartitionCount: 1\tReplicationFactor: 1\tConfigs: segment.bytes=1073741824\n",
            "\tTopic: test\tPartition: 0\tLeader: 0\tReplicas: 0\tIsr: 0\n"
          ]
        }
      ]
    },
    {
      "cell_type": "code",
      "source": [
        "!pip install kafka-python"
      ],
      "metadata": {
        "colab": {
          "base_uri": "https://localhost:8080/"
        },
        "id": "-1Q68EWq7a5Q",
        "outputId": "fbbbef5d-9f31-4822-d63f-ad52816d5e5e"
      },
      "execution_count": 7,
      "outputs": [
        {
          "output_type": "stream",
          "name": "stdout",
          "text": [
            "Looking in indexes: https://pypi.org/simple, https://us-python.pkg.dev/colab-wheels/public/simple/\n",
            "Collecting kafka-python\n",
            "  Downloading kafka_python-2.0.2-py2.py3-none-any.whl (246 kB)\n",
            "\u001b[K     |████████████████████████████████| 246 kB 25.6 MB/s \n",
            "\u001b[?25hInstalling collected packages: kafka-python\n",
            "Successfully installed kafka-python-2.0.2\n"
          ]
        }
      ]
    },
    {
      "cell_type": "code",
      "source": [
        "import random"
      ],
      "metadata": {
        "id": "GULLrFZD710_"
      },
      "execution_count": 8,
      "outputs": []
    },
    {
      "cell_type": "code",
      "source": [
        "def get_random_value():\n",
        "    current_sale = {}\n",
        "\n",
        "    list_city = ['city1', 'city2', 'city3', 'city4', 'city5']\n",
        "    list_manager = ['manager1', 'manager2', 'manager3']\n",
        "    list_product = ['product1', 'product2', 'product3']\n",
        "\n",
        "    current_sale['city'] = random.choice(list_city)\n",
        "    current_sale['manager'] = random.choice(list_manager)\n",
        "    current_sale['product'] = random.choice(list_product)\n",
        "    current_sale['amount'] = random.randint(1, 100)\n",
        "\n",
        "    return current_sale"
      ],
      "metadata": {
        "id": "FAqfmRxp7loX"
      },
      "execution_count": 9,
      "outputs": []
    },
    {
      "cell_type": "code",
      "source": [
        "from time import sleep\n",
        "from json import loads, dumps\n",
        "from kafka import KafkaProducer, KafkaConsumer"
      ],
      "metadata": {
        "id": "mvH-MID-9xd3"
      },
      "execution_count": 10,
      "outputs": []
    },
    {
      "cell_type": "code",
      "source": [
        "producer = KafkaProducer(bootstrap_servers=['localhost:9092'],\n",
        "                             value_serializer=lambda x:dumps(x).encode('utf-8'),\n",
        "                             compression_type='gzip')"
      ],
      "metadata": {
        "id": "U2BGm-R__QP-"
      },
      "execution_count": 11,
      "outputs": []
    },
    {
      "cell_type": "code",
      "source": [
        "test_topic = 'test'\n",
        "n_records = 15"
      ],
      "metadata": {
        "id": "xG1clAYQ_2N-"
      },
      "execution_count": 12,
      "outputs": []
    },
    {
      "cell_type": "code",
      "source": [
        "for _ in range(n_records):\n",
        "    future = producer.send(topic = test_topic, value = get_random_value())\n",
        "    record_metadata = future.get(timeout=10)    \n",
        "    print('--> The message has been sent to a topic: \\\n",
        "            {}, partition: {}, offset: {}' \\\n",
        "            .format(record_metadata.topic,\n",
        "                record_metadata.partition,\n",
        "                record_metadata.offset ))   "
      ],
      "metadata": {
        "colab": {
          "base_uri": "https://localhost:8080/"
        },
        "id": "qi315K8g_j5t",
        "outputId": "dc7bee88-cb9f-407d-9812-6884330b0aab"
      },
      "execution_count": 13,
      "outputs": [
        {
          "output_type": "stream",
          "name": "stdout",
          "text": [
            "--> The message has been sent to a topic:             test, partition: 0, offset: 0\n",
            "--> The message has been sent to a topic:             test, partition: 0, offset: 1\n",
            "--> The message has been sent to a topic:             test, partition: 0, offset: 2\n",
            "--> The message has been sent to a topic:             test, partition: 0, offset: 3\n",
            "--> The message has been sent to a topic:             test, partition: 0, offset: 4\n",
            "--> The message has been sent to a topic:             test, partition: 0, offset: 5\n",
            "--> The message has been sent to a topic:             test, partition: 0, offset: 6\n",
            "--> The message has been sent to a topic:             test, partition: 0, offset: 7\n",
            "--> The message has been sent to a topic:             test, partition: 0, offset: 8\n",
            "--> The message has been sent to a topic:             test, partition: 0, offset: 9\n",
            "--> The message has been sent to a topic:             test, partition: 0, offset: 10\n",
            "--> The message has been sent to a topic:             test, partition: 0, offset: 11\n",
            "--> The message has been sent to a topic:             test, partition: 0, offset: 12\n",
            "--> The message has been sent to a topic:             test, partition: 0, offset: 13\n",
            "--> The message has been sent to a topic:             test, partition: 0, offset: 14\n"
          ]
        }
      ]
    },
    {
      "cell_type": "code",
      "source": [
        "consumer = KafkaConsumer(\n",
        "     test_topic,\n",
        "     bootstrap_servers=['localhost:9092'],\n",
        "     auto_offset_reset='earliest',\n",
        "     enable_auto_commit=True,\n",
        "     group_id='my-group',\n",
        "     value_deserializer=lambda x: loads(x.decode('utf-8')))"
      ],
      "metadata": {
        "id": "Koo2Sen6AMBt"
      },
      "execution_count": 14,
      "outputs": []
    },
    {
      "cell_type": "code",
      "source": [
        "# for message in consumer:\n",
        "#     message = message.value\n",
        "#     print('{}'.format(message))"
      ],
      "metadata": {
        "id": "Xvh3BUGOAnl-"
      },
      "execution_count": 15,
      "outputs": []
    }
  ]
}
