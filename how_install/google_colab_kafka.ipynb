{
  "nbformat": 4,
  "nbformat_minor": 0,
  "metadata": {
    "colab": {
      "name": "google_colab_kafka.ipynb",
      "provenance": [],
      "collapsed_sections": []
    },
    "kernelspec": {
      "name": "python3",
      "display_name": "Python 3"
    },
    "language_info": {
      "name": "python"
    }
  },
  "cells": [
    {
      "cell_type": "markdown",
      "source": [
        "#Google Colab. Установка Kafka"
      ],
      "metadata": {
        "id": "1wSG7oBJPeuK"
      }
    },
    {
      "cell_type": "code",
      "execution_count": 1,
      "metadata": {
        "colab": {
          "base_uri": "https://localhost:8080/"
        },
        "id": "VolOC6WC0y_0",
        "outputId": "9d772df1-79ff-47ba-c79c-3da880c7fd6b"
      },
      "outputs": [
        {
          "output_type": "stream",
          "name": "stdout",
          "text": [
            "--2022-07-05 12:05:09--  https://dlcdn.apache.org/kafka/3.2.0/kafka_2.13-3.2.0.tgz\n",
            "Resolving dlcdn.apache.org (dlcdn.apache.org)... 151.101.2.132, 2a04:4e42::644\n",
            "Connecting to dlcdn.apache.org (dlcdn.apache.org)|151.101.2.132|:443... connected.\n",
            "HTTP request sent, awaiting response... 200 OK\n",
            "Length: 103955943 (99M) [application/x-gzip]\n",
            "Saving to: ‘kafka_2.13-3.2.0.tgz’\n",
            "\n",
            "kafka_2.13-3.2.0.tg 100%[===================>]  99.14M   266MB/s    in 0.4s    \n",
            "\n",
            "2022-07-05 12:05:09 (266 MB/s) - ‘kafka_2.13-3.2.0.tgz’ saved [103955943/103955943]\n",
            "\n"
          ]
        }
      ],
      "source": [
        "!wget https://dlcdn.apache.org/kafka/3.2.0/kafka_2.13-3.2.0.tgz"
      ]
    },
    {
      "cell_type": "code",
      "source": [
        "!tar -xzf kafka_2.13-3.2.0.tgz"
      ],
      "metadata": {
        "id": "Sqe1ka5q2ELR"
      },
      "execution_count": 2,
      "outputs": []
    },
    {
      "cell_type": "code",
      "source": [
        "!./kafka_2.13-3.2.0/bin/zookeeper-server-start.sh -daemon ./kafka_2.13-3.2.0/config/zookeeper.properties\n",
        "!./kafka_2.13-3.2.0/bin/kafka-server-start.sh -daemon ./kafka_2.13-3.2.0/config/server.properties\n",
        "!echo \"Waiting for 10 secs until kafka and zookeeper services are up and running\"\n",
        "!sleep 10"
      ],
      "metadata": {
        "colab": {
          "base_uri": "https://localhost:8080/"
        },
        "id": "1k-LWGGO2y_B",
        "outputId": "2c68b2c2-6339-4dc9-edb3-e2a7e252fa6a"
      },
      "execution_count": 3,
      "outputs": [
        {
          "output_type": "stream",
          "name": "stdout",
          "text": [
            "Waiting for 10 secs until kafka and zookeeper services are up and running\n"
          ]
        }
      ]
    },
    {
      "cell_type": "code",
      "source": [
        "!ps -ef | grep kafka"
      ],
      "metadata": {
        "colab": {
          "base_uri": "https://localhost:8080/"
        },
        "id": "Rh84Hf5b4agp",
        "outputId": "0cf527ec-0884-442e-b362-940e10558712"
      },
      "execution_count": 4,
      "outputs": [
        {
          "output_type": "stream",
          "name": "stdout",
          "text": [
            "root         446       1 17 12:05 ?        00:00:02 java -Xmx512M -Xms512M -server -XX:+UseG1GC -XX:MaxGCPauseMillis=20 -XX:InitiatingHeapOccupancyPercent=35 -XX:+ExplicitGCInvokesConcurrent -XX:MaxInlineLevel=15 -Djava.awt.headless=true -Xlog:gc*:file=/content/kafka_2.13-3.2.0/bin/../logs/zookeeper-gc.log:time,tags:filecount=10,filesize=100M -Dcom.sun.management.jmxremote -Dcom.sun.management.jmxremote.authenticate=false -Dcom.sun.management.jmxremote.ssl=false -Dkafka.logs.dir=/content/kafka_2.13-3.2.0/bin/../logs -Dlog4j.configuration=file:./kafka_2.13-3.2.0/bin/../config/log4j.properties -cp /content/kafka_2.13-3.2.0/bin/../libs/activation-1.1.1.jar:/content/kafka_2.13-3.2.0/bin/../libs/aopalliance-repackaged-2.6.1.jar:/content/kafka_2.13-3.2.0/bin/../libs/argparse4j-0.7.0.jar:/content/kafka_2.13-3.2.0/bin/../libs/audience-annotations-0.5.0.jar:/content/kafka_2.13-3.2.0/bin/../libs/commons-cli-1.4.jar:/content/kafka_2.13-3.2.0/bin/../libs/commons-lang3-3.8.1.jar:/content/kafka_2.13-3.2.0/bin/../libs/connect-api-3.2.0.jar:/content/kafka_2.13-3.2.0/bin/../libs/connect-basic-auth-extension-3.2.0.jar:/content/kafka_2.13-3.2.0/bin/../libs/connect-json-3.2.0.jar:/content/kafka_2.13-3.2.0/bin/../libs/connect-mirror-3.2.0.jar:/content/kafka_2.13-3.2.0/bin/../libs/connect-mirror-client-3.2.0.jar:/content/kafka_2.13-3.2.0/bin/../libs/connect-runtime-3.2.0.jar:/content/kafka_2.13-3.2.0/bin/../libs/connect-transforms-3.2.0.jar:/content/kafka_2.13-3.2.0/bin/../libs/hk2-api-2.6.1.jar:/content/kafka_2.13-3.2.0/bin/../libs/hk2-locator-2.6.1.jar:/content/kafka_2.13-3.2.0/bin/../libs/hk2-utils-2.6.1.jar:/content/kafka_2.13-3.2.0/bin/../libs/jackson-annotations-2.12.6.jar:/content/kafka_2.13-3.2.0/bin/../libs/jackson-core-2.12.6.jar:/content/kafka_2.13-3.2.0/bin/../libs/jackson-databind-2.12.6.1.jar:/content/kafka_2.13-3.2.0/bin/../libs/jackson-dataformat-csv-2.12.6.jar:/content/kafka_2.13-3.2.0/bin/../libs/jackson-datatype-jdk8-2.12.6.jar:/content/kafka_2.13-3.2.0/bin/../libs/jackson-jaxrs-base-2.12.6.jar:/content/kafka_2.13-3.2.0/bin/../libs/jackson-jaxrs-json-provider-2.12.6.jar:/content/kafka_2.13-3.2.0/bin/../libs/jackson-module-jaxb-annotations-2.12.6.jar:/content/kafka_2.13-3.2.0/bin/../libs/jackson-module-scala_2.13-2.12.6.jar:/content/kafka_2.13-3.2.0/bin/../libs/jakarta.activation-api-1.2.1.jar:/content/kafka_2.13-3.2.0/bin/../libs/jakarta.annotation-api-1.3.5.jar:/content/kafka_2.13-3.2.0/bin/../libs/jakarta.inject-2.6.1.jar:/content/kafka_2.13-3.2.0/bin/../libs/jakarta.validation-api-2.0.2.jar:/content/kafka_2.13-3.2.0/bin/../libs/jakarta.ws.rs-api-2.1.6.jar:/content/kafka_2.13-3.2.0/bin/../libs/jakarta.xml.bind-api-2.3.2.jar:/content/kafka_2.13-3.2.0/bin/../libs/javassist-3.27.0-GA.jar:/content/kafka_2.13-3.2.0/bin/../libs/javax.servlet-api-3.1.0.jar:/content/kafka_2.13-3.2.0/bin/../libs/javax.ws.rs-api-2.1.1.jar:/content/kafka_2.13-3.2.0/bin/../libs/jaxb-api-2.3.0.jar:/content/kafka_2.13-3.2.0/bin/../libs/jersey-client-2.34.jar:/content/kafka_2.13-3.2.0/bin/../libs/jersey-common-2.34.jar:/content/kafka_2.13-3.2.0/bin/../libs/jersey-container-servlet-2.34.jar:/content/kafka_2.13-3.2.0/bin/../libs/jersey-container-servlet-core-2.34.jar:/content/kafka_2.13-3.2.0/bin/../libs/jersey-hk2-2.34.jar:/content/kafka_2.13-3.2.0/bin/../libs/jersey-server-2.34.jar:/content/kafka_2.13-3.2.0/bin/../libs/jetty-client-9.4.44.v20210927.jar:/content/kafka_2.13-3.2.0/bin/../libs/jetty-continuation-9.4.44.v20210927.jar:/content/kafka_2.13-3.2.0/bin/../libs/jetty-http-9.4.44.v20210927.jar:/content/kafka_2.13-3.2.0/bin/../libs/jetty-io-9.4.44.v20210927.jar:/content/kafka_2.13-3.2.0/bin/../libs/jetty-security-9.4.44.v20210927.jar:/content/kafka_2.13-3.2.0/bin/../libs/jetty-server-9.4.44.v20210927.jar:/content/kafka_2.13-3.2.0/bin/../libs/jetty-servlet-9.4.44.v20210927.jar:/content/kafka_2.13-3.2.0/bin/../libs/jetty-servlets-9.4.44.v20210927.jar:/content/kafka_2.13-3.2.0/bin/../libs/jetty-util-9.4.44.v20210927.jar:/content/kafka_2.13-3.2.0/bin/../libs/jetty-util-ajax-9.4.44.v20210927.jar:/content/kafka_2.13-3.2.0/bin/../libs/jline-3.21.0.jar:/content/kafka_2.13-3.2.0/bin/../libs/jopt-simple-5.0.4.jar:/content/kafka_2.13-3.2.0/bin/../libs/jose4j-0.7.9.jar:/content/kafka_2.13-3.2.0/bin/../libs/kafka_2.13-3.2.0.jar:/content/kafka_2.13-3.2.0/bin/../libs/kafka-clients-3.2.0.jar:/content/kafka_2.13-3.2.0/bin/../libs/kafka-log4j-appender-3.2.0.jar:/content/kafka_2.13-3.2.0/bin/../libs/kafka-metadata-3.2.0.jar:/content/kafka_2.13-3.2.0/bin/../libs/kafka-raft-3.2.0.jar:/content/kafka_2.13-3.2.0/bin/../libs/kafka-server-common-3.2.0.jar:/content/kafka_2.13-3.2.0/bin/../libs/kafka-shell-3.2.0.jar:/content/kafka_2.13-3.2.0/bin/../libs/kafka-storage-3.2.0.jar:/content/kafka_2.13-3.2.0/bin/../libs/kafka-storage-api-3.2.0.jar:/content/kafka_2.13-3.2.0/bin/../libs/kafka-streams-3.2.0.jar:/content/kafka_2.13-3.2.0/bin/../libs/kafka-streams-examples-3.2.0.jar:/content/kafka_2.13-3.2.0/bin/../libs/kafka-streams-scala_2.13-3.2.0.jar:/content/kafka_2.13-3.2.0/bin/../libs/kafka-streams-test-utils-3.2.0.jar:/content/kafka_2.13-3.2.0/bin/../libs/kafka-tools-3.2.0.jar:/content/kafka_2.13-3.2.0/bin/../libs/lz4-java-1.8.0.jar:/content/kafka_2.13-3.2.0/bin/../libs/maven-artifact-3.8.4.jar:/content/kafka_2.13-3.2.0/bin/../libs/metrics-core-2.2.0.jar:/content/kafka_2.13-3.2.0/bin/../libs/metrics-core-4.1.12.1.jar:/content/kafka_2.13-3.2.0/bin/../libs/netty-buffer-4.1.73.Final.jar:/content/kafka_2.13-3.2.0/bin/../libs/netty-codec-4.1.73.Final.jar:/content/kafka_2.13-3.2.0/bin/../libs/netty-common-4.1.73.Final.jar:/content/kafka_2.13-3.2.0/bin/../libs/netty-handler-4.1.73.Final.jar:/content/kafka_2.13-3.2.0/bin/../libs/netty-resolver-4.1.73.Final.jar:/content/kafka_2.13-3.2.0/bin/../libs/netty-tcnative-classes-2.0.46.Final.jar:/content/kafka_2.13-3.2.0/bin/../libs/netty-transport-4.1.73.Final.jar:/content/kafka_2.13-3.2.0/bin/../libs/netty-transport-classes-epoll-4.1.73.Final.jar:/content/kafka_2.13-3.2.0/bin/../libs/netty-transport-native-epoll-4.1.73.Final.jar:/content/kafka_2.13-3.2.0/bin/../libs/netty-transport-native-unix-common-4.1.73.Final.jar:/content/kafka_2.13-3.2.0/bin/../libs/osgi-resource-locator-1.0.3.jar:/content/kafka_2.13-3.2.0/bin/../libs/paranamer-2.8.jar:/content/kafka_2.13-3.2.0/bin/../libs/plexus-utils-3.3.0.jar:/content/kafka_2.13-3.2.0/bin/../libs/reflections-0.9.12.jar:/content/kafka_2.13-3.2.0/bin/../libs/reload4j-1.2.19.jar:/content/kafka_2.13-3.2.0/bin/../libs/rocksdbjni-6.29.4.1.jar:/content/kafka_2.13-3.2.0/bin/../libs/scala-collection-compat_2.13-2.6.0.jar:/content/kafka_2.13-3.2.0/bin/../libs/scala-java8-compat_2.13-1.0.2.jar:/content/kafka_2.13-3.2.0/bin/../libs/scala-library-2.13.8.jar:/content/kafka_2.13-3.2.0/bin/../libs/scala-logging_2.13-3.9.4.jar:/content/kafka_2.13-3.2.0/bin/../libs/scala-reflect-2.13.8.jar:/content/kafka_2.13-3.2.0/bin/../libs/slf4j-api-1.7.36.jar:/content/kafka_2.13-3.2.0/bin/../libs/slf4j-reload4j-1.7.36.jar:/content/kafka_2.13-3.2.0/bin/../libs/snappy-java-1.1.8.4.jar:/content/kafka_2.13-3.2.0/bin/../libs/trogdor-3.2.0.jar:/content/kafka_2.13-3.2.0/bin/../libs/zookeeper-3.6.3.jar:/content/kafka_2.13-3.2.0/bin/../libs/zookeeper-jute-3.6.3.jar:/content/kafka_2.13-3.2.0/bin/../libs/zstd-jni-1.5.2-1.jar org.apache.zookeeper.server.quorum.QuorumPeerMain ./kafka_2.13-3.2.0/config/zookeeper.properties\n",
            "root         806       1 71 12:05 ?        00:00:07 java -Xmx1G -Xms1G -server -XX:+UseG1GC -XX:MaxGCPauseMillis=20 -XX:InitiatingHeapOccupancyPercent=35 -XX:+ExplicitGCInvokesConcurrent -XX:MaxInlineLevel=15 -Djava.awt.headless=true -Xlog:gc*:file=/content/kafka_2.13-3.2.0/bin/../logs/kafkaServer-gc.log:time,tags:filecount=10,filesize=100M -Dcom.sun.management.jmxremote -Dcom.sun.management.jmxremote.authenticate=false -Dcom.sun.management.jmxremote.ssl=false -Dkafka.logs.dir=/content/kafka_2.13-3.2.0/bin/../logs -Dlog4j.configuration=file:./kafka_2.13-3.2.0/bin/../config/log4j.properties -cp /content/kafka_2.13-3.2.0/bin/../libs/activation-1.1.1.jar:/content/kafka_2.13-3.2.0/bin/../libs/aopalliance-repackaged-2.6.1.jar:/content/kafka_2.13-3.2.0/bin/../libs/argparse4j-0.7.0.jar:/content/kafka_2.13-3.2.0/bin/../libs/audience-annotations-0.5.0.jar:/content/kafka_2.13-3.2.0/bin/../libs/commons-cli-1.4.jar:/content/kafka_2.13-3.2.0/bin/../libs/commons-lang3-3.8.1.jar:/content/kafka_2.13-3.2.0/bin/../libs/connect-api-3.2.0.jar:/content/kafka_2.13-3.2.0/bin/../libs/connect-basic-auth-extension-3.2.0.jar:/content/kafka_2.13-3.2.0/bin/../libs/connect-json-3.2.0.jar:/content/kafka_2.13-3.2.0/bin/../libs/connect-mirror-3.2.0.jar:/content/kafka_2.13-3.2.0/bin/../libs/connect-mirror-client-3.2.0.jar:/content/kafka_2.13-3.2.0/bin/../libs/connect-runtime-3.2.0.jar:/content/kafka_2.13-3.2.0/bin/../libs/connect-transforms-3.2.0.jar:/content/kafka_2.13-3.2.0/bin/../libs/hk2-api-2.6.1.jar:/content/kafka_2.13-3.2.0/bin/../libs/hk2-locator-2.6.1.jar:/content/kafka_2.13-3.2.0/bin/../libs/hk2-utils-2.6.1.jar:/content/kafka_2.13-3.2.0/bin/../libs/jackson-annotations-2.12.6.jar:/content/kafka_2.13-3.2.0/bin/../libs/jackson-core-2.12.6.jar:/content/kafka_2.13-3.2.0/bin/../libs/jackson-databind-2.12.6.1.jar:/content/kafka_2.13-3.2.0/bin/../libs/jackson-dataformat-csv-2.12.6.jar:/content/kafka_2.13-3.2.0/bin/../libs/jackson-datatype-jdk8-2.12.6.jar:/content/kafka_2.13-3.2.0/bin/../libs/jackson-jaxrs-base-2.12.6.jar:/content/kafka_2.13-3.2.0/bin/../libs/jackson-jaxrs-json-provider-2.12.6.jar:/content/kafka_2.13-3.2.0/bin/../libs/jackson-module-jaxb-annotations-2.12.6.jar:/content/kafka_2.13-3.2.0/bin/../libs/jackson-module-scala_2.13-2.12.6.jar:/content/kafka_2.13-3.2.0/bin/../libs/jakarta.activation-api-1.2.1.jar:/content/kafka_2.13-3.2.0/bin/../libs/jakarta.annotation-api-1.3.5.jar:/content/kafka_2.13-3.2.0/bin/../libs/jakarta.inject-2.6.1.jar:/content/kafka_2.13-3.2.0/bin/../libs/jakarta.validation-api-2.0.2.jar:/content/kafka_2.13-3.2.0/bin/../libs/jakarta.ws.rs-api-2.1.6.jar:/content/kafka_2.13-3.2.0/bin/../libs/jakarta.xml.bind-api-2.3.2.jar:/content/kafka_2.13-3.2.0/bin/../libs/javassist-3.27.0-GA.jar:/content/kafka_2.13-3.2.0/bin/../libs/javax.servlet-api-3.1.0.jar:/content/kafka_2.13-3.2.0/bin/../libs/javax.ws.rs-api-2.1.1.jar:/content/kafka_2.13-3.2.0/bin/../libs/jaxb-api-2.3.0.jar:/content/kafka_2.13-3.2.0/bin/../libs/jersey-client-2.34.jar:/content/kafka_2.13-3.2.0/bin/../libs/jersey-common-2.34.jar:/content/kafka_2.13-3.2.0/bin/../libs/jersey-container-servlet-2.34.jar:/content/kafka_2.13-3.2.0/bin/../libs/jersey-container-servlet-core-2.34.jar:/content/kafka_2.13-3.2.0/bin/../libs/jersey-hk2-2.34.jar:/content/kafka_2.13-3.2.0/bin/../libs/jersey-server-2.34.jar:/content/kafka_2.13-3.2.0/bin/../libs/jetty-client-9.4.44.v20210927.jar:/content/kafka_2.13-3.2.0/bin/../libs/jetty-continuation-9.4.44.v20210927.jar:/content/kafka_2.13-3.2.0/bin/../libs/jetty-http-9.4.44.v20210927.jar:/content/kafka_2.13-3.2.0/bin/../libs/jetty-io-9.4.44.v20210927.jar:/content/kafka_2.13-3.2.0/bin/../libs/jetty-security-9.4.44.v20210927.jar:/content/kafka_2.13-3.2.0/bin/../libs/jetty-server-9.4.44.v20210927.jar:/content/kafka_2.13-3.2.0/bin/../libs/jetty-servlet-9.4.44.v20210927.jar:/content/kafka_2.13-3.2.0/bin/../libs/jetty-servlets-9.4.44.v20210927.jar:/content/kafka_2.13-3.2.0/bin/../libs/jetty-util-9.4.44.v20210927.jar:/content/kafka_2.13-3.2.0/bin/../libs/jetty-util-ajax-9.4.44.v20210927.jar:/content/kafka_2.13-3.2.0/bin/../libs/jline-3.21.0.jar:/content/kafka_2.13-3.2.0/bin/../libs/jopt-simple-5.0.4.jar:/content/kafka_2.13-3.2.0/bin/../libs/jose4j-0.7.9.jar:/content/kafka_2.13-3.2.0/bin/../libs/kafka_2.13-3.2.0.jar:/content/kafka_2.13-3.2.0/bin/../libs/kafka-clients-3.2.0.jar:/content/kafka_2.13-3.2.0/bin/../libs/kafka-log4j-appender-3.2.0.jar:/content/kafka_2.13-3.2.0/bin/../libs/kafka-metadata-3.2.0.jar:/content/kafka_2.13-3.2.0/bin/../libs/kafka-raft-3.2.0.jar:/content/kafka_2.13-3.2.0/bin/../libs/kafka-server-common-3.2.0.jar:/content/kafka_2.13-3.2.0/bin/../libs/kafka-shell-3.2.0.jar:/content/kafka_2.13-3.2.0/bin/../libs/kafka-storage-3.2.0.jar:/content/kafka_2.13-3.2.0/bin/../libs/kafka-storage-api-3.2.0.jar:/content/kafka_2.13-3.2.0/bin/../libs/kafka-streams-3.2.0.jar:/content/kafka_2.13-3.2.0/bin/../libs/kafka-streams-examples-3.2.0.jar:/content/kafka_2.13-3.2.0/bin/../libs/kafka-streams-scala_2.13-3.2.0.jar:/content/kafka_2.13-3.2.0/bin/../libs/kafka-streams-test-utils-3.2.0.jar:/content/kafka_2.13-3.2.0/bin/../libs/kafka-tools-3.2.0.jar:/content/kafka_2.13-3.2.0/bin/../libs/lz4-java-1.8.0.jar:/content/kafka_2.13-3.2.0/bin/../libs/maven-artifact-3.8.4.jar:/content/kafka_2.13-3.2.0/bin/../libs/metrics-core-2.2.0.jar:/content/kafka_2.13-3.2.0/bin/../libs/metrics-core-4.1.12.1.jar:/content/kafka_2.13-3.2.0/bin/../libs/netty-buffer-4.1.73.Final.jar:/content/kafka_2.13-3.2.0/bin/../libs/netty-codec-4.1.73.Final.jar:/content/kafka_2.13-3.2.0/bin/../libs/netty-common-4.1.73.Final.jar:/content/kafka_2.13-3.2.0/bin/../libs/netty-handler-4.1.73.Final.jar:/content/kafka_2.13-3.2.0/bin/../libs/netty-resolver-4.1.73.Final.jar:/content/kafka_2.13-3.2.0/bin/../libs/netty-tcnative-classes-2.0.46.Final.jar:/content/kafka_2.13-3.2.0/bin/../libs/netty-transport-4.1.73.Final.jar:/content/kafka_2.13-3.2.0/bin/../libs/netty-transport-classes-epoll-4.1.73.Final.jar:/content/kafka_2.13-3.2.0/bin/../libs/netty-transport-native-epoll-4.1.73.Final.jar:/content/kafka_2.13-3.2.0/bin/../libs/netty-transport-native-unix-common-4.1.73.Final.jar:/content/kafka_2.13-3.2.0/bin/../libs/osgi-resource-locator-1.0.3.jar:/content/kafka_2.13-3.2.0/bin/../libs/paranamer-2.8.jar:/content/kafka_2.13-3.2.0/bin/../libs/plexus-utils-3.3.0.jar:/content/kafka_2.13-3.2.0/bin/../libs/reflections-0.9.12.jar:/content/kafka_2.13-3.2.0/bin/../libs/reload4j-1.2.19.jar:/content/kafka_2.13-3.2.0/bin/../libs/rocksdbjni-6.29.4.1.jar:/content/kafka_2.13-3.2.0/bin/../libs/scala-collection-compat_2.13-2.6.0.jar:/content/kafka_2.13-3.2.0/bin/../libs/scala-java8-compat_2.13-1.0.2.jar:/content/kafka_2.13-3.2.0/bin/../libs/scala-library-2.13.8.jar:/content/kafka_2.13-3.2.0/bin/../libs/scala-logging_2.13-3.9.4.jar:/content/kafka_2.13-3.2.0/bin/../libs/scala-reflect-2.13.8.jar:/content/kafka_2.13-3.2.0/bin/../libs/slf4j-api-1.7.36.jar:/content/kafka_2.13-3.2.0/bin/../libs/slf4j-reload4j-1.7.36.jar:/content/kafka_2.13-3.2.0/bin/../libs/snappy-java-1.1.8.4.jar:/content/kafka_2.13-3.2.0/bin/../libs/trogdor-3.2.0.jar:/content/kafka_2.13-3.2.0/bin/../libs/zookeeper-3.6.3.jar:/content/kafka_2.13-3.2.0/bin/../libs/zookeeper-jute-3.6.3.jar:/content/kafka_2.13-3.2.0/bin/../libs/zstd-jni-1.5.2-1.jar kafka.Kafka ./kafka_2.13-3.2.0/config/server.properties\n",
            "root         883      60  0 12:05 ?        00:00:00 /bin/bash -c ps -ef | grep kafka\n",
            "root         885     883  0 12:05 ?        00:00:00 grep kafka\n"
          ]
        }
      ]
    },
    {
      "cell_type": "code",
      "source": [
        "!./kafka_2.13-3.2.0/bin/kafka-topics.sh --create --bootstrap-server 127.0.0.1:9092 --replication-factor 1 --partitions 1 --topic test"
      ],
      "metadata": {
        "colab": {
          "base_uri": "https://localhost:8080/"
        },
        "id": "JUX__GEK4dcA",
        "outputId": "9a94b26d-37e9-4d49-ba55-2e494f860279"
      },
      "execution_count": 5,
      "outputs": [
        {
          "output_type": "stream",
          "name": "stdout",
          "text": [
            "Created topic test.\n"
          ]
        }
      ]
    },
    {
      "cell_type": "code",
      "source": [
        "!./kafka_2.13-3.2.0/bin/kafka-topics.sh --describe --bootstrap-server 127.0.0.1:9092 --topic test"
      ],
      "metadata": {
        "colab": {
          "base_uri": "https://localhost:8080/"
        },
        "id": "P3PveCmZ4uPv",
        "outputId": "5b4d39ac-f5f0-4a37-9507-102cef3ebaef"
      },
      "execution_count": 6,
      "outputs": [
        {
          "output_type": "stream",
          "name": "stdout",
          "text": [
            "Topic: test\tTopicId: J3Hp4Vl5Rda2MhLGORUW_w\tPartitionCount: 1\tReplicationFactor: 1\tConfigs: segment.bytes=1073741824\n",
            "\tTopic: test\tPartition: 0\tLeader: 0\tReplicas: 0\tIsr: 0\n"
          ]
        }
      ]
    },
    {
      "cell_type": "code",
      "source": [
        "!pip install kafka-python"
      ],
      "metadata": {
        "colab": {
          "base_uri": "https://localhost:8080/"
        },
        "id": "-1Q68EWq7a5Q",
        "outputId": "931dbc86-9d20-448d-b431-2db3c9227bc3"
      },
      "execution_count": 7,
      "outputs": [
        {
          "output_type": "stream",
          "name": "stdout",
          "text": [
            "Looking in indexes: https://pypi.org/simple, https://us-python.pkg.dev/colab-wheels/public/simple/\n",
            "Collecting kafka-python\n",
            "  Downloading kafka_python-2.0.2-py2.py3-none-any.whl (246 kB)\n",
            "\u001b[K     |████████████████████████████████| 246 kB 15.4 MB/s \n",
            "\u001b[?25hInstalling collected packages: kafka-python\n",
            "Successfully installed kafka-python-2.0.2\n"
          ]
        }
      ]
    },
    {
      "cell_type": "code",
      "source": [
        "import random"
      ],
      "metadata": {
        "id": "GULLrFZD710_"
      },
      "execution_count": 8,
      "outputs": []
    },
    {
      "cell_type": "code",
      "source": [
        "def get_random_value():\n",
        "    current_sale = {}\n",
        "\n",
        "    list_city = ['city1', 'city2', 'city3', 'city4', 'city5']\n",
        "    list_manager = ['manager1', 'manager2', 'manager3']\n",
        "    list_product = ['product1', 'product2', 'product3']\n",
        "\n",
        "    current_sale['city'] = random.choice(list_city)\n",
        "    current_sale['manager'] = random.choice(list_manager)\n",
        "    current_sale['product'] = random.choice(list_product)\n",
        "    current_sale['amount'] = random.randint(1, 100)\n",
        "\n",
        "    return current_sale"
      ],
      "metadata": {
        "id": "FAqfmRxp7loX"
      },
      "execution_count": 9,
      "outputs": []
    },
    {
      "cell_type": "code",
      "source": [
        "from time import sleep\n",
        "from json import loads, dumps\n",
        "from kafka import KafkaProducer, KafkaConsumer"
      ],
      "metadata": {
        "id": "mvH-MID-9xd3"
      },
      "execution_count": 10,
      "outputs": []
    },
    {
      "cell_type": "code",
      "source": [
        "producer = KafkaProducer(bootstrap_servers=['localhost:9092'],\n",
        "                             value_serializer=lambda x:dumps(x).encode('utf-8'),\n",
        "                             compression_type='gzip')"
      ],
      "metadata": {
        "id": "U2BGm-R__QP-"
      },
      "execution_count": 11,
      "outputs": []
    },
    {
      "cell_type": "code",
      "source": [
        "test_topic = 'test'\n",
        "n_records = 15"
      ],
      "metadata": {
        "id": "xG1clAYQ_2N-"
      },
      "execution_count": 12,
      "outputs": []
    },
    {
      "cell_type": "code",
      "source": [
        "for _ in range(n_records):\n",
        "    future = producer.send(topic = test_topic, value = get_random_value())\n",
        "    record_metadata = future.get(timeout=10)    \n",
        "    print('--> The message has been sent to a topic: \\\n",
        "            {}, partition: {}, offset: {}' \\\n",
        "            .format(record_metadata.topic,\n",
        "                record_metadata.partition,\n",
        "                record_metadata.offset ))   "
      ],
      "metadata": {
        "colab": {
          "base_uri": "https://localhost:8080/"
        },
        "id": "qi315K8g_j5t",
        "outputId": "4ed3014f-5f7f-476d-a1d3-70a0d5ce7bfb"
      },
      "execution_count": 13,
      "outputs": [
        {
          "output_type": "stream",
          "name": "stdout",
          "text": [
            "--> The message has been sent to a topic:             test, partition: 0, offset: 0\n",
            "--> The message has been sent to a topic:             test, partition: 0, offset: 1\n",
            "--> The message has been sent to a topic:             test, partition: 0, offset: 2\n",
            "--> The message has been sent to a topic:             test, partition: 0, offset: 3\n",
            "--> The message has been sent to a topic:             test, partition: 0, offset: 4\n",
            "--> The message has been sent to a topic:             test, partition: 0, offset: 5\n",
            "--> The message has been sent to a topic:             test, partition: 0, offset: 6\n",
            "--> The message has been sent to a topic:             test, partition: 0, offset: 7\n",
            "--> The message has been sent to a topic:             test, partition: 0, offset: 8\n",
            "--> The message has been sent to a topic:             test, partition: 0, offset: 9\n",
            "--> The message has been sent to a topic:             test, partition: 0, offset: 10\n",
            "--> The message has been sent to a topic:             test, partition: 0, offset: 11\n",
            "--> The message has been sent to a topic:             test, partition: 0, offset: 12\n",
            "--> The message has been sent to a topic:             test, partition: 0, offset: 13\n",
            "--> The message has been sent to a topic:             test, partition: 0, offset: 14\n"
          ]
        }
      ]
    },
    {
      "cell_type": "code",
      "source": [
        "consumer = KafkaConsumer(\n",
        "     test_topic,\n",
        "     bootstrap_servers=['localhost:9092'],\n",
        "     auto_offset_reset='earliest',\n",
        "     enable_auto_commit=True,\n",
        "     group_id='my-group',\n",
        "     value_deserializer=lambda x: loads(x.decode('utf-8')))"
      ],
      "metadata": {
        "id": "Koo2Sen6AMBt"
      },
      "execution_count": 14,
      "outputs": []
    },
    {
      "cell_type": "code",
      "source": [
        "for message in consumer:\n",
        "    message = message.value\n",
        "    print('{}'.format(message))"
      ],
      "metadata": {
        "colab": {
          "base_uri": "https://localhost:8080/",
          "height": 608
        },
        "id": "Xvh3BUGOAnl-",
        "outputId": "14148d8f-1c3e-4869-b095-9031de79ec26"
      },
      "execution_count": 15,
      "outputs": [
        {
          "output_type": "stream",
          "name": "stdout",
          "text": [
            "{'city': 'city5', 'manager': 'manager3', 'product': 'product1', 'amount': 45}\n",
            "{'city': 'city1', 'manager': 'manager1', 'product': 'product2', 'amount': 21}\n",
            "{'city': 'city1', 'manager': 'manager1', 'product': 'product2', 'amount': 93}\n",
            "{'city': 'city5', 'manager': 'manager3', 'product': 'product2', 'amount': 2}\n",
            "{'city': 'city2', 'manager': 'manager2', 'product': 'product1', 'amount': 4}\n",
            "{'city': 'city2', 'manager': 'manager2', 'product': 'product3', 'amount': 69}\n",
            "{'city': 'city3', 'manager': 'manager2', 'product': 'product3', 'amount': 79}\n",
            "{'city': 'city4', 'manager': 'manager2', 'product': 'product2', 'amount': 88}\n",
            "{'city': 'city3', 'manager': 'manager3', 'product': 'product2', 'amount': 60}\n",
            "{'city': 'city1', 'manager': 'manager1', 'product': 'product2', 'amount': 25}\n",
            "{'city': 'city5', 'manager': 'manager1', 'product': 'product3', 'amount': 52}\n",
            "{'city': 'city3', 'manager': 'manager1', 'product': 'product1', 'amount': 41}\n",
            "{'city': 'city4', 'manager': 'manager3', 'product': 'product2', 'amount': 33}\n",
            "{'city': 'city2', 'manager': 'manager2', 'product': 'product3', 'amount': 79}\n",
            "{'city': 'city4', 'manager': 'manager3', 'product': 'product3', 'amount': 94}\n"
          ]
        },
        {
          "output_type": "error",
          "ename": "KeyboardInterrupt",
          "evalue": "ignored",
          "traceback": [
            "\u001b[0;31m---------------------------------------------------------------------------\u001b[0m",
            "\u001b[0;31mKeyboardInterrupt\u001b[0m                         Traceback (most recent call last)",
            "\u001b[0;32m<ipython-input-15-8c36c0047584>\u001b[0m in \u001b[0;36m<module>\u001b[0;34m()\u001b[0m\n\u001b[0;32m----> 1\u001b[0;31m \u001b[0;32mfor\u001b[0m \u001b[0mmessage\u001b[0m \u001b[0;32min\u001b[0m \u001b[0mconsumer\u001b[0m\u001b[0;34m:\u001b[0m\u001b[0;34m\u001b[0m\u001b[0;34m\u001b[0m\u001b[0m\n\u001b[0m\u001b[1;32m      2\u001b[0m     \u001b[0mmessage\u001b[0m \u001b[0;34m=\u001b[0m \u001b[0mmessage\u001b[0m\u001b[0;34m.\u001b[0m\u001b[0mvalue\u001b[0m\u001b[0;34m\u001b[0m\u001b[0;34m\u001b[0m\u001b[0m\n\u001b[1;32m      3\u001b[0m     \u001b[0mprint\u001b[0m\u001b[0;34m(\u001b[0m\u001b[0;34m'{}'\u001b[0m\u001b[0;34m.\u001b[0m\u001b[0mformat\u001b[0m\u001b[0;34m(\u001b[0m\u001b[0mmessage\u001b[0m\u001b[0;34m)\u001b[0m\u001b[0;34m)\u001b[0m\u001b[0;34m\u001b[0m\u001b[0;34m\u001b[0m\u001b[0m\n",
            "\u001b[0;32m/usr/local/lib/python3.7/dist-packages/kafka/consumer/group.py\u001b[0m in \u001b[0;36m__next__\u001b[0;34m(self)\u001b[0m\n\u001b[1;32m   1191\u001b[0m             \u001b[0;32mreturn\u001b[0m \u001b[0mself\u001b[0m\u001b[0;34m.\u001b[0m\u001b[0mnext_v1\u001b[0m\u001b[0;34m(\u001b[0m\u001b[0;34m)\u001b[0m\u001b[0;34m\u001b[0m\u001b[0;34m\u001b[0m\u001b[0m\n\u001b[1;32m   1192\u001b[0m         \u001b[0;32melse\u001b[0m\u001b[0;34m:\u001b[0m\u001b[0;34m\u001b[0m\u001b[0;34m\u001b[0m\u001b[0m\n\u001b[0;32m-> 1193\u001b[0;31m             \u001b[0;32mreturn\u001b[0m \u001b[0mself\u001b[0m\u001b[0;34m.\u001b[0m\u001b[0mnext_v2\u001b[0m\u001b[0;34m(\u001b[0m\u001b[0;34m)\u001b[0m\u001b[0;34m\u001b[0m\u001b[0;34m\u001b[0m\u001b[0m\n\u001b[0m\u001b[1;32m   1194\u001b[0m \u001b[0;34m\u001b[0m\u001b[0m\n\u001b[1;32m   1195\u001b[0m     \u001b[0;32mdef\u001b[0m \u001b[0mnext_v2\u001b[0m\u001b[0;34m(\u001b[0m\u001b[0mself\u001b[0m\u001b[0;34m)\u001b[0m\u001b[0;34m:\u001b[0m\u001b[0;34m\u001b[0m\u001b[0;34m\u001b[0m\u001b[0m\n",
            "\u001b[0;32m/usr/local/lib/python3.7/dist-packages/kafka/consumer/group.py\u001b[0m in \u001b[0;36mnext_v2\u001b[0;34m(self)\u001b[0m\n\u001b[1;32m   1199\u001b[0m                 \u001b[0mself\u001b[0m\u001b[0;34m.\u001b[0m\u001b[0m_iterator\u001b[0m \u001b[0;34m=\u001b[0m \u001b[0mself\u001b[0m\u001b[0;34m.\u001b[0m\u001b[0m_message_generator_v2\u001b[0m\u001b[0;34m(\u001b[0m\u001b[0;34m)\u001b[0m\u001b[0;34m\u001b[0m\u001b[0;34m\u001b[0m\u001b[0m\n\u001b[1;32m   1200\u001b[0m             \u001b[0;32mtry\u001b[0m\u001b[0;34m:\u001b[0m\u001b[0;34m\u001b[0m\u001b[0;34m\u001b[0m\u001b[0m\n\u001b[0;32m-> 1201\u001b[0;31m                 \u001b[0;32mreturn\u001b[0m \u001b[0mnext\u001b[0m\u001b[0;34m(\u001b[0m\u001b[0mself\u001b[0m\u001b[0;34m.\u001b[0m\u001b[0m_iterator\u001b[0m\u001b[0;34m)\u001b[0m\u001b[0;34m\u001b[0m\u001b[0;34m\u001b[0m\u001b[0m\n\u001b[0m\u001b[1;32m   1202\u001b[0m             \u001b[0;32mexcept\u001b[0m \u001b[0mStopIteration\u001b[0m\u001b[0;34m:\u001b[0m\u001b[0;34m\u001b[0m\u001b[0;34m\u001b[0m\u001b[0m\n\u001b[1;32m   1203\u001b[0m                 \u001b[0mself\u001b[0m\u001b[0;34m.\u001b[0m\u001b[0m_iterator\u001b[0m \u001b[0;34m=\u001b[0m \u001b[0;32mNone\u001b[0m\u001b[0;34m\u001b[0m\u001b[0;34m\u001b[0m\u001b[0m\n",
            "\u001b[0;32m/usr/local/lib/python3.7/dist-packages/kafka/consumer/group.py\u001b[0m in \u001b[0;36m_message_generator_v2\u001b[0;34m(self)\u001b[0m\n\u001b[1;32m   1114\u001b[0m     \u001b[0;32mdef\u001b[0m \u001b[0m_message_generator_v2\u001b[0m\u001b[0;34m(\u001b[0m\u001b[0mself\u001b[0m\u001b[0;34m)\u001b[0m\u001b[0;34m:\u001b[0m\u001b[0;34m\u001b[0m\u001b[0;34m\u001b[0m\u001b[0m\n\u001b[1;32m   1115\u001b[0m         \u001b[0mtimeout_ms\u001b[0m \u001b[0;34m=\u001b[0m \u001b[0;36m1000\u001b[0m \u001b[0;34m*\u001b[0m \u001b[0;34m(\u001b[0m\u001b[0mself\u001b[0m\u001b[0;34m.\u001b[0m\u001b[0m_consumer_timeout\u001b[0m \u001b[0;34m-\u001b[0m \u001b[0mtime\u001b[0m\u001b[0;34m.\u001b[0m\u001b[0mtime\u001b[0m\u001b[0;34m(\u001b[0m\u001b[0;34m)\u001b[0m\u001b[0;34m)\u001b[0m\u001b[0;34m\u001b[0m\u001b[0;34m\u001b[0m\u001b[0m\n\u001b[0;32m-> 1116\u001b[0;31m         \u001b[0mrecord_map\u001b[0m \u001b[0;34m=\u001b[0m \u001b[0mself\u001b[0m\u001b[0;34m.\u001b[0m\u001b[0mpoll\u001b[0m\u001b[0;34m(\u001b[0m\u001b[0mtimeout_ms\u001b[0m\u001b[0;34m=\u001b[0m\u001b[0mtimeout_ms\u001b[0m\u001b[0;34m,\u001b[0m \u001b[0mupdate_offsets\u001b[0m\u001b[0;34m=\u001b[0m\u001b[0;32mFalse\u001b[0m\u001b[0;34m)\u001b[0m\u001b[0;34m\u001b[0m\u001b[0;34m\u001b[0m\u001b[0m\n\u001b[0m\u001b[1;32m   1117\u001b[0m         \u001b[0;32mfor\u001b[0m \u001b[0mtp\u001b[0m\u001b[0;34m,\u001b[0m \u001b[0mrecords\u001b[0m \u001b[0;32min\u001b[0m \u001b[0msix\u001b[0m\u001b[0;34m.\u001b[0m\u001b[0miteritems\u001b[0m\u001b[0;34m(\u001b[0m\u001b[0mrecord_map\u001b[0m\u001b[0;34m)\u001b[0m\u001b[0;34m:\u001b[0m\u001b[0;34m\u001b[0m\u001b[0;34m\u001b[0m\u001b[0m\n\u001b[1;32m   1118\u001b[0m             \u001b[0;31m# Generators are stateful, and it is possible that the tp / records\u001b[0m\u001b[0;34m\u001b[0m\u001b[0;34m\u001b[0m\u001b[0;34m\u001b[0m\u001b[0m\n",
            "\u001b[0;32m/usr/local/lib/python3.7/dist-packages/kafka/consumer/group.py\u001b[0m in \u001b[0;36mpoll\u001b[0;34m(self, timeout_ms, max_records, update_offsets)\u001b[0m\n\u001b[1;32m    653\u001b[0m         \u001b[0mremaining\u001b[0m \u001b[0;34m=\u001b[0m \u001b[0mtimeout_ms\u001b[0m\u001b[0;34m\u001b[0m\u001b[0;34m\u001b[0m\u001b[0m\n\u001b[1;32m    654\u001b[0m         \u001b[0;32mwhile\u001b[0m \u001b[0;32mTrue\u001b[0m\u001b[0;34m:\u001b[0m\u001b[0;34m\u001b[0m\u001b[0;34m\u001b[0m\u001b[0m\n\u001b[0;32m--> 655\u001b[0;31m             \u001b[0mrecords\u001b[0m \u001b[0;34m=\u001b[0m \u001b[0mself\u001b[0m\u001b[0;34m.\u001b[0m\u001b[0m_poll_once\u001b[0m\u001b[0;34m(\u001b[0m\u001b[0mremaining\u001b[0m\u001b[0;34m,\u001b[0m \u001b[0mmax_records\u001b[0m\u001b[0;34m,\u001b[0m \u001b[0mupdate_offsets\u001b[0m\u001b[0;34m=\u001b[0m\u001b[0mupdate_offsets\u001b[0m\u001b[0;34m)\u001b[0m\u001b[0;34m\u001b[0m\u001b[0;34m\u001b[0m\u001b[0m\n\u001b[0m\u001b[1;32m    656\u001b[0m             \u001b[0;32mif\u001b[0m \u001b[0mrecords\u001b[0m\u001b[0;34m:\u001b[0m\u001b[0;34m\u001b[0m\u001b[0;34m\u001b[0m\u001b[0m\n\u001b[1;32m    657\u001b[0m                 \u001b[0;32mreturn\u001b[0m \u001b[0mrecords\u001b[0m\u001b[0;34m\u001b[0m\u001b[0;34m\u001b[0m\u001b[0m\n",
            "\u001b[0;32m/usr/local/lib/python3.7/dist-packages/kafka/consumer/group.py\u001b[0m in \u001b[0;36m_poll_once\u001b[0;34m(self, timeout_ms, max_records, update_offsets)\u001b[0m\n\u001b[1;32m    700\u001b[0m \u001b[0;34m\u001b[0m\u001b[0m\n\u001b[1;32m    701\u001b[0m         \u001b[0mtimeout_ms\u001b[0m \u001b[0;34m=\u001b[0m \u001b[0mmin\u001b[0m\u001b[0;34m(\u001b[0m\u001b[0mtimeout_ms\u001b[0m\u001b[0;34m,\u001b[0m \u001b[0mself\u001b[0m\u001b[0;34m.\u001b[0m\u001b[0m_coordinator\u001b[0m\u001b[0;34m.\u001b[0m\u001b[0mtime_to_next_poll\u001b[0m\u001b[0;34m(\u001b[0m\u001b[0;34m)\u001b[0m \u001b[0;34m*\u001b[0m \u001b[0;36m1000\u001b[0m\u001b[0;34m)\u001b[0m\u001b[0;34m\u001b[0m\u001b[0;34m\u001b[0m\u001b[0m\n\u001b[0;32m--> 702\u001b[0;31m         \u001b[0mself\u001b[0m\u001b[0;34m.\u001b[0m\u001b[0m_client\u001b[0m\u001b[0;34m.\u001b[0m\u001b[0mpoll\u001b[0m\u001b[0;34m(\u001b[0m\u001b[0mtimeout_ms\u001b[0m\u001b[0;34m=\u001b[0m\u001b[0mtimeout_ms\u001b[0m\u001b[0;34m)\u001b[0m\u001b[0;34m\u001b[0m\u001b[0;34m\u001b[0m\u001b[0m\n\u001b[0m\u001b[1;32m    703\u001b[0m         \u001b[0;31m# after the long poll, we should check whether the group needs to rebalance\u001b[0m\u001b[0;34m\u001b[0m\u001b[0;34m\u001b[0m\u001b[0;34m\u001b[0m\u001b[0m\n\u001b[1;32m    704\u001b[0m         \u001b[0;31m# prior to returning data so that the group can stabilize faster\u001b[0m\u001b[0;34m\u001b[0m\u001b[0;34m\u001b[0m\u001b[0;34m\u001b[0m\u001b[0m\n",
            "\u001b[0;32m/usr/local/lib/python3.7/dist-packages/kafka/client_async.py\u001b[0m in \u001b[0;36mpoll\u001b[0;34m(self, timeout_ms, future)\u001b[0m\n\u001b[1;32m    600\u001b[0m                     \u001b[0mtimeout\u001b[0m \u001b[0;34m=\u001b[0m \u001b[0mmax\u001b[0m\u001b[0;34m(\u001b[0m\u001b[0;36m0\u001b[0m\u001b[0;34m,\u001b[0m \u001b[0mtimeout\u001b[0m\u001b[0;34m)\u001b[0m  \u001b[0;31m# avoid negative timeouts\u001b[0m\u001b[0;34m\u001b[0m\u001b[0;34m\u001b[0m\u001b[0m\n\u001b[1;32m    601\u001b[0m \u001b[0;34m\u001b[0m\u001b[0m\n\u001b[0;32m--> 602\u001b[0;31m                 \u001b[0mself\u001b[0m\u001b[0;34m.\u001b[0m\u001b[0m_poll\u001b[0m\u001b[0;34m(\u001b[0m\u001b[0mtimeout\u001b[0m \u001b[0;34m/\u001b[0m \u001b[0;36m1000\u001b[0m\u001b[0;34m)\u001b[0m\u001b[0;34m\u001b[0m\u001b[0;34m\u001b[0m\u001b[0m\n\u001b[0m\u001b[1;32m    603\u001b[0m \u001b[0;34m\u001b[0m\u001b[0m\n\u001b[1;32m    604\u001b[0m             \u001b[0;31m# called without the lock to avoid deadlock potential\u001b[0m\u001b[0;34m\u001b[0m\u001b[0;34m\u001b[0m\u001b[0;34m\u001b[0m\u001b[0m\n",
            "\u001b[0;32m/usr/local/lib/python3.7/dist-packages/kafka/client_async.py\u001b[0m in \u001b[0;36m_poll\u001b[0;34m(self, timeout)\u001b[0m\n\u001b[1;32m    632\u001b[0m \u001b[0;34m\u001b[0m\u001b[0m\n\u001b[1;32m    633\u001b[0m         \u001b[0mstart_select\u001b[0m \u001b[0;34m=\u001b[0m \u001b[0mtime\u001b[0m\u001b[0;34m.\u001b[0m\u001b[0mtime\u001b[0m\u001b[0;34m(\u001b[0m\u001b[0;34m)\u001b[0m\u001b[0;34m\u001b[0m\u001b[0;34m\u001b[0m\u001b[0m\n\u001b[0;32m--> 634\u001b[0;31m         \u001b[0mready\u001b[0m \u001b[0;34m=\u001b[0m \u001b[0mself\u001b[0m\u001b[0;34m.\u001b[0m\u001b[0m_selector\u001b[0m\u001b[0;34m.\u001b[0m\u001b[0mselect\u001b[0m\u001b[0;34m(\u001b[0m\u001b[0mtimeout\u001b[0m\u001b[0;34m)\u001b[0m\u001b[0;34m\u001b[0m\u001b[0;34m\u001b[0m\u001b[0m\n\u001b[0m\u001b[1;32m    635\u001b[0m         \u001b[0mend_select\u001b[0m \u001b[0;34m=\u001b[0m \u001b[0mtime\u001b[0m\u001b[0;34m.\u001b[0m\u001b[0mtime\u001b[0m\u001b[0;34m(\u001b[0m\u001b[0;34m)\u001b[0m\u001b[0;34m\u001b[0m\u001b[0;34m\u001b[0m\u001b[0m\n\u001b[1;32m    636\u001b[0m         \u001b[0;32mif\u001b[0m \u001b[0mself\u001b[0m\u001b[0;34m.\u001b[0m\u001b[0m_sensors\u001b[0m\u001b[0;34m:\u001b[0m\u001b[0;34m\u001b[0m\u001b[0;34m\u001b[0m\u001b[0m\n",
            "\u001b[0;32m/usr/lib/python3.7/selectors.py\u001b[0m in \u001b[0;36mselect\u001b[0;34m(self, timeout)\u001b[0m\n\u001b[1;32m    466\u001b[0m             \u001b[0mready\u001b[0m \u001b[0;34m=\u001b[0m \u001b[0;34m[\u001b[0m\u001b[0;34m]\u001b[0m\u001b[0;34m\u001b[0m\u001b[0;34m\u001b[0m\u001b[0m\n\u001b[1;32m    467\u001b[0m             \u001b[0;32mtry\u001b[0m\u001b[0;34m:\u001b[0m\u001b[0;34m\u001b[0m\u001b[0;34m\u001b[0m\u001b[0m\n\u001b[0;32m--> 468\u001b[0;31m                 \u001b[0mfd_event_list\u001b[0m \u001b[0;34m=\u001b[0m \u001b[0mself\u001b[0m\u001b[0;34m.\u001b[0m\u001b[0m_selector\u001b[0m\u001b[0;34m.\u001b[0m\u001b[0mpoll\u001b[0m\u001b[0;34m(\u001b[0m\u001b[0mtimeout\u001b[0m\u001b[0;34m,\u001b[0m \u001b[0mmax_ev\u001b[0m\u001b[0;34m)\u001b[0m\u001b[0;34m\u001b[0m\u001b[0;34m\u001b[0m\u001b[0m\n\u001b[0m\u001b[1;32m    469\u001b[0m             \u001b[0;32mexcept\u001b[0m \u001b[0mInterruptedError\u001b[0m\u001b[0;34m:\u001b[0m\u001b[0;34m\u001b[0m\u001b[0;34m\u001b[0m\u001b[0m\n\u001b[1;32m    470\u001b[0m                 \u001b[0;32mreturn\u001b[0m \u001b[0mready\u001b[0m\u001b[0;34m\u001b[0m\u001b[0;34m\u001b[0m\u001b[0m\n",
            "\u001b[0;31mKeyboardInterrupt\u001b[0m: "
          ]
        }
      ]
    }
  ]
}